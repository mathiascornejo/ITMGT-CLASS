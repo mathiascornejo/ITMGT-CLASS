{
 "cells": [
  {
   "cell_type": "code",
   "execution_count": 1,
   "id": "5fe00979-a5c1-43a6-8199-d87f288f27f8",
   "metadata": {},
   "outputs": [
    {
     "name": "stdout",
     "output_type": "stream",
     "text": [
      "The number of lines of the string is 99968.\n",
      "The number of words in the string is 824538.\n",
      "The number of times the word \"apostle\" appears is 47.\n",
      "The word that appears the most times in the string is the word \"the\".\n"
     ]
    }
   ],
   "source": [
    "import requests\n",
    "pg10 = requests.get('https://www.gutenberg.org/cache/epub/10/pg10.txt').text\n",
    "\n",
    "print('The number of lines of the string is ' + str(len(pg10.splitlines())) + '.')\n",
    "print('The number of words in the string is ' + str(len(pg10.split())) + '.')\n",
    "\n",
    "word_counts = {}\n",
    "for word in pg10.split():\n",
    "    word = word.strip(\",.;?!\").lower()\n",
    "    if word_counts.get(word):\n",
    "        word_counts[word] += 1\n",
    "    else:\n",
    "        word_counts[word] = 1\n",
    "        \n",
    "print('The number of times the word \"apostle\" appears is ' + str(word_counts[\"apostle\"]) + '.')\n",
    "print('The word that appears the most times in the string is the word \"' + str(max(word_counts, key=word_counts.get)) + '\".')"
   ]
  },
  {
   "cell_type": "code",
   "execution_count": null,
   "id": "1f35aee9-4c60-4c3e-ab21-3b988af87860",
   "metadata": {},
   "outputs": [],
   "source": []
  }
 ],
 "metadata": {
  "kernelspec": {
   "display_name": "Python 3 (ipykernel)",
   "language": "python",
   "name": "python3"
  },
  "language_info": {
   "codemirror_mode": {
    "name": "ipython",
    "version": 3
   },
   "file_extension": ".py",
   "mimetype": "text/x-python",
   "name": "python",
   "nbconvert_exporter": "python",
   "pygments_lexer": "ipython3",
   "version": "3.11.7"
  }
 },
 "nbformat": 4,
 "nbformat_minor": 5
}
